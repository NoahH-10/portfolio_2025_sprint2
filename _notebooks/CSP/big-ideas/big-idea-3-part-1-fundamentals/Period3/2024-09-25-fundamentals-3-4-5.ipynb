{
 "cells": [
  {
   "cell_type": "raw",
   "metadata": {
    "vscode": {
     "languageId": "raw"
    }
   },
   "source": [
    "---\n",
    "toc: true\n",
    "comments: true\n",
    "layout: post\n",
    "title: 3.4.5 Grading Policy\n",
    "description: Rubric for how the homework will be graded\n",
    "permalink: /csp/big-idea/p3/3-4-5\n",
    "categories: [CSP Big Ideas]\n",
    "author:  Ahaan, Spencer, Vasanth, Xavier\n",
    "menu: nav/csp_units/csp_unit3_p3_fundamentals.html\n",
    "---"
   ]
  },
  {
   "cell_type": "markdown",
   "metadata": {},
   "source": [
    "### Rubric\n",
    "The following is the rubric that we will be grading your code on.\n",
    "<table>\n",
    "  <tr>\n",
    "    <th>Criteria</th>\n",
    "    <th>4 (100%)</th>\n",
    "    <th>3 (83.3%)</th>\n",
    "    <th>2 (66.7%)</th>\n",
    "    <th>1 (50.0%)</th>\n",
    "  </tr>\n",
    "  <tr>\n",
    "    <td>Code Functionality</td>\n",
    "    <td>Code runs flawlessly and meets all the project requirements.</td>\n",
    "    <td>Code runs with minor bugs but meets most project requirements.</td>\n",
    "    <td>Code runs with significant bugs, meeting some project requirements.</td>\n",
    "    <td>Code does not run or fails to meet project requirements.</td>\n",
    "  </tr>\n",
    "  <tr>\n",
    "    <td>Code Efficiency</td>\n",
    "    <td>Code is highly efficient with optimal logic and minimal redundancy.</td>\n",
    "    <td>Code is generally efficient with some minor inefficiencies or redundancies.</td>\n",
    "    <td>Code has several inefficiencies or redundant parts, affecting performance.</td>\n",
    "    <td>Code is highly inefficient, with poor logic and excessive redundancy.</td>\n",
    "  </tr>\n",
    "  <tr>\n",
    "    <td>Creativity and Innovation</td>\n",
    "    <td>Demonstrates exceptional creativity and novel problem-solving approaches.</td>\n",
    "    <td>Shows good creativity with unique ideas but lacks full execution.</td>\n",
    "    <td>Shows limited creativity or relies on standard approaches.</td>\n",
    "    <td>Lacks creativity, using basic or pre-existing solutions.</td>\n",
    "  </tr>\n",
    "  <tr>\n",
    "    <td>Documentation and Comments</td>\n",
    "    <td>Code is well-documented with clear and detailed comments throughout.</td>\n",
    "    <td>Documentation is adequate, with comments explaining most of the code.</td>\n",
    "    <td>Limited documentation; only some parts of the code are explained.</td>\n",
    "    <td>No documentation or comments, making the code difficult to understand.</td>\n",
    "  </tr>\n",
    "</table>\n",
    "\n"
   ]
  },
  {
   "cell_type": "markdown",
   "metadata": {},
   "source": [
    "### Weightage\n",
    "This is how much each section is weighted (percent wise)\n",
    "<table>\n",
    "  <tr>\n",
    "    <th><strong>Criteria</strong></th>\n",
    "    <th><strong>Weight</strong></th>\n",
    "  </tr>\n",
    "  <tr>\n",
    "    <td><strong>Code Functionality</strong></td>\n",
    "    <td>40%</td>\n",
    "  </tr>\n",
    "  <tr>\n",
    "    <td><strong>Code Efficiency</strong></td>\n",
    "    <td>25%</td>\n",
    "  </tr>\n",
    "  <tr>\n",
    "    <td><strong>Creativity and Innovation</strong></td>\n",
    "    <td>20%</td>\n",
    "  </tr>\n",
    "  <tr>\n",
    "    <td><strong>Documentation and Comments</strong></td>\n",
    "    <td>15%</td>\n",
    "  </tr>\n",
    "</table>\n"
   ]
  },
  {
   "cell_type": "markdown",
   "metadata": {},
   "source": [
    "### Grading Example\n",
    "\n",
    "Let's say someone receives the following scores:\n",
    "- **Code Functionality**: 3 (out of 4)\n",
    "- **Code Efficiency**: 2 (out of 4)\n",
    "- **Creativity and Innovation**: 4 (out of 4)\n",
    "- **Documentation and Comments**: 3 (out of 4)\n",
    "\n",
    "#### Steps to Grade:\n",
    "\n",
    "1. **Code Functionality (Weight: 40%)**:  \n",
    "   - Score: 3/4 = 83.33%  \n",
    "   - 83.33% of 40 = 0.8333 × 40 = **33.33 points**\n",
    "\n",
    "2. **Code Efficiency (Weight: 25%)**:  \n",
    "   - Score: 2/4 = 66.67%  \n",
    "   - 66.67% of 25 = 0.6667 × 25 = **16.67 points**\n",
    "\n",
    "3. **Creativity and Innovation (Weight: 20%)**:  \n",
    "   - Score: 4/4 = 100%  \n",
    "   - 100% of 20 = 1.00 × 20 = **20 points**\n",
    "\n",
    "4. **Documentation and Comments (Weight: 15%)**:  \n",
    "   - Score: 3/4 = 83.33%  \n",
    "   - 83.33% of 15 = 0.8333 × 15 = **12.5 points**\n",
    "\n",
    "#### Final Grade:\n",
    "- **Total points**: 33.33 + 16.67 + 20 + 12.5 = **82.5 points out of 100**"
   ]
  }
 ],
 "metadata": {
  "language_info": {
   "name": "python"
  }
 },
 "nbformat": 4,
 "nbformat_minor": 2
}
