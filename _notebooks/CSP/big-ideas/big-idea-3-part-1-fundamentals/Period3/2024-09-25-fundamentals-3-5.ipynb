{
 "cells": [
  {
   "cell_type": "raw",
   "metadata": {},
   "source": [
    "---\n",
    "toc: false\n",
    "comments: true\n",
    "permalink: /csp/big-idea/p3/3-5\n",
    "layout: post\n",
    "title: 3.5 Booleans (Period 3)\n",
    "description: Student led teaching on Booleans. Learn how booleans are used in decision-making with logical operators. \n",
    "categories: [CSP Big Ideas]\n",
    "author: Trevor V, Wyatt Z, Max G, Johan M, Luke S\n",
    "menu: /nav/csp_units/csp_unit3_p3_fundamentals.html\n",
    "---"
   ]
  },
  {
   "cell_type": "markdown",
   "metadata": {},
   "source": [
    "# This blog post will go over **BOOLEANS**!\n",
    "\n",
    "## The only baseline information you should know about Booleans is that they are either **true** or **false**. \n",
    "\n",
    "## However, you will notice that boolean statements can look super funky, yet in the end, they will always be either **true** or **false**."
   ]
  },
  {
   "cell_type": "markdown",
   "metadata": {},
   "source": [
    "## [Blog about Booleans]({{site.baseurl}}/csp/big-idea/p3/3-5-3)\n",
    "\n",
    "## [Truth Table]({{site.baseurl}}/csp/big-idea/p3/3-5-2)\n",
    "\n",
    "## [De Morgan's Law]({{site.baseurl}}/csp/big-idea/p3/3-5-1)"
   ]
  }
 ],
 "metadata": {
  "kernelspec": {
   "display_name": "Python 3",
   "language": "python",
   "name": "python3"
  },
  "language_info": {
   "codemirror_mode": {
    "name": "ipython",
    "version": 3
   },
   "file_extension": ".py",
   "mimetype": "text/x-python",
   "name": "python",
   "nbconvert_exporter": "python",
   "pygments_lexer": "ipython3",
   "version": "3.11.1"
  }
 },
 "nbformat": 4,
 "nbformat_minor": 2
}
