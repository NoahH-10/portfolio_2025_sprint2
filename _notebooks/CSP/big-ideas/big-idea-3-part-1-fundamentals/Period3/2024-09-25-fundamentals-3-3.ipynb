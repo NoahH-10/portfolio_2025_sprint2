{
 "cells": [
  {
   "cell_type": "raw",
   "metadata": {},
   "source": [
    "---\n",
    "toc: false\n",
    "comments: true\n",
    "layout: post\n",
    "permalink: /csp/big-idea/p3/3-3\n",
    "title: 3.3 Mathematical Expressions (Period 3)\n",
    "description: Student led teaching on  Mathematical Expressions. Learn how mathematical expressions involve using arithmetic operators (like addition, subtraction, multiplication, and division) to perform calculations\n",
    "categories: [CSP Big Ideas]\n",
    "author: Trevor V, Wyatt Z, Max G, Johan M, Luke S\n",
    "menu: /nav/csp_units/csp_unit3_p3_fundamentals.html\n",
    "---"
   ]
  },
  {
   "cell_type": "markdown",
   "metadata": {},
   "source": [
    "## **Mathematical expressions** are used to perform calculations by applying arithmetic operators to variables and values.\n",
    "\n",
    "Just like in traditional math, operators such as **addition** (+), **subtraction** (-), **multiplication** (*), and **division** (/) allow programmers to manipulate data and generate results. \n",
    " \n",
    "These expressions can be as simple as adding two numbers or as complex as solving multi-step problems involving variables.\n",
    "\n",
    "For example, in many programming languages, you might see something like:\n",
    "\n",
    "```python\n",
    "x = 5 + 3\n",
    "y = 3 - 2\n",
    "z = x * y\n",
    "q = z / 2\n",
    "```\n",
    "\n",
    "Here, the variables x, y, z, and q hold the outcomes of various mathematical operations. By learning how to construct and evaluate mathematical expressions in code, you can create algorithms that automate calculations and solve problems efficiently.\n",
    "\n",
    "**This blog will go over the basics of mathematical expressions and how to use them efficiently in code.**"
   ]
  }
 ],
 "metadata": {
  "kernelspec": {
   "display_name": "Python 3",
   "language": "python",
   "name": "python3"
  },
  "language_info": {
   "codemirror_mode": {
    "name": "ipython",
    "version": 3
   },
   "file_extension": ".py",
   "mimetype": "text/x-python",
   "name": "python",
   "nbconvert_exporter": "python",
   "pygments_lexer": "ipython3",
   "version": "3.10.12"
  }
 },
 "nbformat": 4,
 "nbformat_minor": 2
}
