{
 "cells": [
  {
   "cell_type": "raw",
   "metadata": {
    "vscode": {
     "languageId": "raw"
    }
   },
   "source": [
    "---\n",
    "toc: false\n",
    "comments: true\n",
    "layout: post\n",
    "title: 3.1.3 Javascript Variables\n",
    "description: This lesson is about how variables work in javascript.\n",
    "permalink: /csp/big-idea/p3/3-1-3\n",
    "categories: [CSP Big Ideas]\n",
    "author:  Ahaan, Spencer, Vasanth, Xavier\n",
    "menu: nav/csp_units/csp_unit3_p3_fundamentals.html\n",
    "---"
   ]
  },
  {
   "cell_type": "markdown",
   "metadata": {},
   "source": [
    "<style>\n",
    "  /* Global styling for the notebook with a dark background */\n",
    "  body {\n",
    "      font-family: 'Verdana', sans-serif;\n",
    "      background-color: #1e272e;\n",
    "      color: #dcdde1;\n",
    "  }\n",
    "\n",
    "  /* Styling headers with updated colors and borders */\n",
    "  h1, h2, h3, h4, h5 {\n",
    "      color: #f5f6fa;\n",
    "      border-bottom: 2px solid #9c88ff;\n",
    "      padding-bottom: 5px;\n",
    "      margin-bottom: 15px;\n",
    "  }\n",
    "\n",
    "  /* Custom style for inline code */\n",
    "  code {\n",
    "      background-color: #2f3640;\n",
    "      color: #fbc531;\n",
    "      padding: 2px 5px;\n",
    "      border-radius: 4px;\n",
    "  }\n",
    "\n",
    "  /* Custom style for preformatted code blocks */\n",
    "  pre {\n",
    "      background-color: #2c3e50;\n",
    "      color: #f5f6fa;\n",
    "      padding: 10px;\n",
    "      border-radius: 5px;\n",
    "      border: 1px solid #9c88ff; /* Updated border color */\n",
    "      overflow-x: auto;\n",
    "  }\n",
    "\n",
    "  /* Code block syntax highlighting */\n",
    "  .hljs-keyword, .hljs-selector-tag, .hljs-subst {\n",
    "      color: #e84118; /* Keywords in red */\n",
    "  }\n",
    "\n",
    "  .hljs-string, .hljs-attr, .hljs-symbol, .hljs-bullet, .hljs-addition {\n",
    "      color: #4cd137; /* Strings in green */\n",
    "  }\n",
    "\n",
    "  .hljs-title, .hljs-section, .hljs-attribute {\n",
    "      color: #fbc531; /* Titles and sections in yellow */\n",
    "  }\n",
    "\n",
    "  .hljs-variable, .hljs-template-variable {\n",
    "      color: #9c88ff; /* Variables in light purple */\n",
    "  }\n",
    "\n",
    "  .hljs-comment, .hljs-quote, .hljs-deletion {\n",
    "      color: #718093; /* Comments in muted gray */\n",
    "  }\n",
    "\n",
    "  .hljs-number, .hljs-regexp, .hljs-literal, .hljs-type, .hljs-built_in, .hljs-builtin-name {\n",
    "      color: #ff7979; /* Numbers and built-ins in soft red */\n",
    "  }\n",
    "\n",
    "  .hljs-meta {\n",
    "      color: #00a8ff; /* Meta information in blue */\n",
    "  }\n",
    "\n",
    "  /* Highlight blockquotes with unique styling */\n",
    "  blockquote {\n",
    "      border-left: 4px solid #fbc531;\n",
    "      padding-left: 10px;\n",
    "      color: #f5f6fa;\n",
    "      font-style: italic;\n",
    "      background-color: #353b48;\n",
    "      padding: 10px;\n",
    "      border-radius: 4px;\n",
    "  }\n",
    "\n",
    "  /* Styling for emphasized text */\n",
    "  em {\n",
    "      color: #fbc531; /* Yellow color for emphasized text */\n",
    "      font-style: italic;\n",
    "  }\n",
    "\n",
    "  /* Style for bold text */\n",
    "  strong {\n",
    "      color: #f5f6fa;\n",
    "      font-weight: bold;\n",
    "  }\n",
    "\n",
    "  /* Updated menu styling */\n",
    "  .menu {\n",
    "      background-color: #9c88ff;\n",
    "      color: white;\n",
    "      padding: 10px;\n",
    "      border-radius: 5px;\n",
    "      text-align: center;\n",
    "  }\n",
    "\n",
    "  .menu a {\n",
    "      color: #ff9ff3; /* Pink links in menu */\n",
    "      text-decoration: none;\n",
    "      padding: 0 10px;\n",
    "  }\n",
    "\n",
    "  .menu a:hover {\n",
    "      color: #f368e0; /* Darker pink on hover */\n",
    "  }\n",
    "\n",
    "  /* Adjust the styling for markdown lists */\n",
    "  ul {\n",
    "      list-style-type: square;\n",
    "      color: #f5f6fa;\n",
    "  }\n",
    "\n",
    "  /* Styling tables with a darker theme */\n",
    "  table {\n",
    "      border-collapse: collapse;\n",
    "      width: 100%;\n",
    "      background-color: #2c3e50;\n",
    "  }\n",
    "  \n",
    "  table, th, td {\n",
    "      border: 1px solid #7f8c8d;\n",
    "      padding: 8px;\n",
    "      color: #f5f6fa;\n",
    "  }\n",
    "\n",
    "  th {\n",
    "      background-color: #9c88ff;\n",
    "      color: white;\n",
    "  }\n",
    "\n",
    "  /* Custom styling for links with better visibility */\n",
    "  a {\n",
    "      color: #00a8ff;\n",
    "      text-decoration: none;\n",
    "  }\n",
    "\n",
    "  a:hover {\n",
    "      text-decoration: underline;\n",
    "      color: #4cd137;\n",
    "  }\n",
    "</style>\n"
   ]
  },
  {
   "cell_type": "markdown",
   "metadata": {},
   "source": [
    "### Variables\n",
    "Variables are containers that are used to store data in programming languages. In JavaScript there are 3 ways to declare a variable.\n",
    "1. var\n",
    "2. let\n",
    "3. const\n",
    "\n",
    "var is an outdated way of declaring variables, and so we will disregard teaching it as you will only use let and const.\n",
    "\n",
    "Const: Use when the variable shouldn't be reassigned.\n",
    "Let: Use when the variable's value may change over time."
   ]
  },
  {
   "cell_type": "code",
   "execution_count": null,
   "metadata": {
    "vscode": {
     "languageId": "javascript"
    }
   },
   "outputs": [],
   "source": [
    "%%js\n",
    "\n",
    "//Pi and user variables don't change\n",
    "const pi = 3.14159265358979;\n",
    "const user = \"Spencer\";\n",
    "\n",
    "//Count variable is being updated\n",
    "let count = 0;\n",
    "for (let i = 0; i < 10; i++) {\n",
    "    console.log(i)\n",
    "}"
   ]
  },
  {
   "cell_type": "markdown",
   "metadata": {},
   "source": [
    "### Assignment Operator\n",
    "JavaScript's assignment operator is equal (=) which assigns the value of the thing to the right to equal the variable to the left. The equal sign shouldn't be confused as equality, as it's exclusively reserved for assignment in programming languages.\n",
    "\n",
    "> **==** is used to test equality between two things"
   ]
  },
  {
   "cell_type": "code",
   "execution_count": null,
   "metadata": {
    "vscode": {
     "languageId": "javascript"
    }
   },
   "outputs": [],
   "source": [
    "%%js \n",
    "let x = 5\n",
    "let y = 3\n",
    "let z = 2"
   ]
  },
  {
   "cell_type": "markdown",
   "metadata": {
    "vscode": {
     "languageId": "javascript"
    }
   },
   "source": [
    "### Variable Naming\n",
    "There are some limitations when it comes to naming variables in JavaScript\n",
    "1. The name can only contain letters, digits, or the symbols $ and _.\n",
    "2. The variable musn't start with a digit\n",
    "\n",
    "Examples of valid & invalid variable names:"
   ]
  },
  {
   "cell_type": "code",
   "execution_count": null,
   "metadata": {
    "vscode": {
     "languageId": "javascript"
    }
   },
   "outputs": [],
   "source": [
    "%%js \n",
    "\n",
    "//Valid variable names\n",
    "let color;\n",
    "let _favoriteColor;\n",
    "\n",
    "//Invalid  variable names\n",
    "let 123badVariable;\n",
    "let my-age;\n",
    "\n"
   ]
  },
  {
   "cell_type": "markdown",
   "metadata": {},
   "source": [
    "### Naming Conventions\n",
    "\n",
    "When naming variables, it's an important skill to make clear, concise, and meaningful variable names. This will help your peers and your future self.\n",
    "\n",
    "Here are some guidelines to follow:\n",
    "\n",
    "- Use clear, human-readable names like `userName` or `shoppingCart`.\n",
    "- Avoid using cryptic abbreviations or single-letter names like `a`, `b`, or `c`, unless it’s absolutely clear what they mean.\n",
    "- Strive for names that are both descriptive and to the point. Generic names like `data` or `value` don’t provide much insight.\n",
    "- Stick to consistent terminology. If you refer to someone on your site as a “user,” stay consistent with terms like `currentUser` or `newUser` instead of changing it up with something like `currentVisitor`.\n",
    "\n",
    "Here are some examples:"
   ]
  },
  {
   "cell_type": "code",
   "execution_count": null,
   "metadata": {
    "vscode": {
     "languageId": "javascript"
    }
   },
   "outputs": [],
   "source": [
    "// BAD: unclear and too generic\n",
    "let a = 30;\n",
    "let data = \"John Doe\";\n",
    "let value = true;\n",
    "\n",
    "// GOOD: descriptive and clear\n",
    "let userAge = 30;\n",
    "let userName = \"John Doe\";\n",
    "let isUserLoggedIn = true;\n",
    "\n",
    "// BAD: abbreviations and short names\n",
    "let usrNm = \"Jane\";\n",
    "let c = 100;\n",
    "let t = new Date();\n",
    "\n",
    "// GOOD: human-readable and consistent\n",
    "let customerName = \"Jane\";\n",
    "let cartTotal = 100;\n",
    "let currentDate = new Date();\n",
    "\n",
    "// BAD: inconsistent terminology\n",
    "let visitorId = 123;\n",
    "let currentVisitor = \"John\";\n",
    "let siteMember = \"Jane\";\n",
    "\n",
    "// GOOD: consistent and concise\n",
    "let userId = 123;\n",
    "let currentUser = \"John\";\n",
    "let newUser = \"Jane\";\n"
   ]
  }
 ],
 "metadata": {
  "kernelspec": {
   "display_name": "Python 3 (ipykernel)",
   "language": "python",
   "name": "python3"
  }
 },
 "nbformat": 4,
 "nbformat_minor": 2
}
